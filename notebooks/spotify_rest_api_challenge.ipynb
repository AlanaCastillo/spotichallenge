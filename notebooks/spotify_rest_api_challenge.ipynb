{
 "cells": [
  {
   "cell_type": "markdown",
   "id": "ef05c1d6",
   "metadata": {},
   "source": [
    "![spotify_logo](../img/spotify_logo.png)\n",
    "\n",
    "# Spotify REST API Challenge\n",
    "\n",
    "__What to listen?__\n",
    "\n",
    "Create your own playlist based on the related artists and their most popular tracks using the [Spotify REST API](https://developer.spotify.com/)"
   ]
  },
  {
   "cell_type": "code",
   "execution_count": null,
   "id": "17a49776",
   "metadata": {},
   "outputs": [],
   "source": [
    "# imports\n",
    "\n"
   ]
  },
  {
   "cell_type": "markdown",
   "id": "4e97884c",
   "metadata": {},
   "source": [
    "### Get access!!!\n",
    "\n",
    "Get your `client_id` and `client_secret` to generate your __token__ access"
   ]
  },
  {
   "cell_type": "code",
   "execution_count": null,
   "id": "7b5d2e52",
   "metadata": {},
   "outputs": [],
   "source": [
    "# generate token with a POST request\n",
    "\n",
    "client_id = # CLIENT ID\n",
    "client_secret = # CLIENT SECRET\n",
    "auth_url = 'https://accounts.spotify.com/api/token'"
   ]
  },
  {
   "cell_type": "code",
   "execution_count": null,
   "id": "c7901d1e",
   "metadata": {},
   "outputs": [],
   "source": [
    "auth_response = requests.post(auth_url, {'grant_type': 'client_credentials',\n",
    "                                         'client_id': client_id,\n",
    "                                         'client_secret': client_secret}).json()"
   ]
  },
  {
   "cell_type": "code",
   "execution_count": null,
   "id": "262e7e18",
   "metadata": {},
   "outputs": [],
   "source": [
    "access_token = auth_response['access_token']\n",
    "auth_response"
   ]
  },
  {
   "cell_type": "markdown",
   "id": "e617caff",
   "metadata": {},
   "source": [
    "### Set your main variables!!!\n",
    "\n",
    "Set the `base_url` (i.e.: End-point), parameters and `headers` for your __GET__ operations"
   ]
  },
  {
   "cell_type": "code",
   "execution_count": null,
   "id": "62e6d4fb",
   "metadata": {},
   "outputs": [],
   "source": [
    "# setting the main variables\n",
    "\n",
    "base_url = 'https://api.spotify.com/v1'\n",
    "resource = '/artists'\n",
    "header = {'Authorization': 'Bearer {token}'.format(token=access_token)}"
   ]
  },
  {
   "cell_type": "markdown",
   "id": "16660a9b",
   "metadata": {},
   "source": [
    "### Create your new playlist!!!\n",
    "\n",
    "Use [`/related-artists`](https://developer.spotify.com/documentation/web-api/reference/#/operations/get-an-artists-related-artists) and [`/top-tracks`](https://developer.spotify.com/documentation/web-api/reference/#/operations/get-an-artists-top-tracks) in order to get the data that you need\n",
    "\n",
    "__Here you have the different artists to start with:__\n",
    "\n",
    "_Option 1:_ 711MCceyCBcFnzjGY4Q7Un\n",
    "\n",
    "_Option 2:_ 5gs3QMiBgkUgNofeA16Awv\n",
    "\n",
    "_Option 3:_ 1ZcvF2meiXi5UPDJWxrKR5\n",
    "\n",
    "_Option 4:_ 0HSGpDMeXaEmH5aUIHjnBF\n",
    "\n",
    "_Option 5:_ 5TYxZTjIPqKM8K8NuP9woO\n",
    "\n",
    "_Option 6:_ 36QJpDe2go2KgaRleHCDTp\n",
    "\n",
    "_Option 7:_ 3qm84nBOXUEQ2vnTfUTTFC\n",
    "\n",
    "_Option 8:_ 4NJhFmfw43RLBLjQvxDuRS\n",
    "\n",
    "_Option 9:_ 0L8ExT028jH3ddEcZwqJJ5\n",
    "\n",
    "_Option 10:_ 1vCWHaC5f2uS3yhpwWbIA6\n",
    "\n",
    "_Option 11:_ 1dfeR4HaWDbWqFHLkxsg1d\n",
    "\n",
    "_Option 12:_ 6ogn9necmbUdCppmNnGOdi"
   ]
  },
  {
   "cell_type": "code",
   "execution_count": null,
   "id": "50ec3959",
   "metadata": {},
   "outputs": [],
   "source": [
    "# your code\n",
    "\n",
    "\n",
    "\n",
    "\n",
    "\n",
    "\n",
    "\n",
    "\n",
    "\n",
    "\n",
    "\n",
    "\n",
    "\n",
    "\n",
    "\n",
    "\n",
    "\n",
    "\n",
    "\n"
   ]
  },
  {
   "cell_type": "markdown",
   "id": "9436b623",
   "metadata": {},
   "source": [
    "---"
   ]
  },
  {
   "cell_type": "markdown",
   "id": "a9487ef7",
   "metadata": {},
   "source": [
    "You can always try with the [wrapper](https://github.com/plamere/spotipy)!!!\n",
    "\n",
    "![I quit](https://media.giphy.com/media/3oFzlXPvXYZ4q8VQOs/giphy.gif)"
   ]
  }
 ],
 "metadata": {
  "kernelspec": {
   "display_name": "Python [conda env:.conda-ironhack]",
   "language": "python",
   "name": "conda-env-.conda-ironhack-py"
  },
  "language_info": {
   "codemirror_mode": {
    "name": "ipython",
    "version": 3
   },
   "file_extension": ".py",
   "mimetype": "text/x-python",
   "name": "python",
   "nbconvert_exporter": "python",
   "pygments_lexer": "ipython3",
   "version": "3.7.11"
  }
 },
 "nbformat": 4,
 "nbformat_minor": 5
}
